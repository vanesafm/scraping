{
  "cells": [
    {
      "attachments": {},
      "cell_type": "markdown",
      "metadata": {
        "id": "OuBTgYw1AJPC"
      },
      "source": [
        "# Evidencia de aprendizaje 1. Análisis y herramientas de extracción de datos\n",
        "## Asignatura: Programación para Análisis de Datos PREICA2402B020100\n",
        "## Docente: Diego Leon Zapata  \n",
        "## Estudiante: Vanesa Foronda Moreno\n"
      ]
    },
    {
      "cell_type": "code",
      "execution_count": null,
      "metadata": {
        "colab": {
          "base_uri": "https://localhost:8080/"
        },
        "id": "1wrMiHKh1ix8",
        "outputId": "e20afd3e-cf19-485f-f579-784292a189f6"
      },
      "outputs": [
        {
          "name": "stdout",
          "output_type": "stream",
          "text": [
            "Extrayendo datos de la página 1: https://www.ragged.com.co/vestidos?_q=vestidos&map=ft&page=1\n",
            "Extrayendo datos de la página 2: https://www.ragged.com.co/vestidos?_q=vestidos&map=ft&page=2\n",
            "Extrayendo datos de la página 3: https://www.ragged.com.co/vestidos?_q=vestidos&map=ft&page=3\n",
            "Extrayendo datos de la página 4: https://www.ragged.com.co/vestidos?_q=vestidos&map=ft&page=4\n",
            "Extrayendo datos de la página 5: https://www.ragged.com.co/vestidos?_q=vestidos&map=ft&page=5\n",
            "Extrayendo datos de la página 6: https://www.ragged.com.co/vestidos?_q=vestidos&map=ft&page=6\n",
            "Extrayendo datos de la página 7: https://www.ragged.com.co/vestidos?_q=vestidos&map=ft&page=7\n",
            "No se encontraron más productos.\n",
            "Se extrajeron 48 productos.\n"
          ]
        }
      ],
      "source": [
        "\n",
        "import requests\n",
        "from bs4 import BeautifulSoup\n",
        "import csv\n",
        "\n",
        "def clean_price(price_text):\n",
        "    \"\"\"Limpia el texto del precio eliminando símbolos y espacios innecesarios.\"\"\"\n",
        "    if price_text:\n",
        "        return price_text.replace('$', '').replace(' ', '').replace('.', '').replace(',', '.')\n",
        "    return None\n",
        "\n",
        "def scrape_products(search_term):\n",
        "    base_url = 'https://www.ragged.com.co'\n",
        "    search_url = f'{base_url}/{search_term}?_q={search_term}&map=ft'\n",
        "    page = 1\n",
        "    products = []\n",
        "    max_pages = 10  # Puedes ajustar este número según sea necesario\n",
        "\n",
        "    while page <= max_pages:\n",
        "        url = f'{search_url}&page={page}'\n",
        "        print(f'Extrayendo datos de la página {page}: {url}')\n",
        "        response = requests.get(url)\n",
        "        if response.status_code != 200:\n",
        "            print('No se pudo obtener la página.')\n",
        "            break\n",
        "        soup = BeautifulSoup(response.content, 'html.parser')\n",
        "\n",
        "        # Encontrar todos los contenedores de productos\n",
        "        product_divs = soup.find_all('div', class_=lambda x: x and 'vtex-search-result-3-x-galleryItem' in x)\n",
        "        if not product_divs:\n",
        "            print('No se encontraron más productos.')\n",
        "            break\n",
        "\n",
        "        for product in product_divs:\n",
        "            # Extraer el nombre del producto\n",
        "            name_tag = product.find('span', class_='vtex-product-summary-2-x-productBrand')\n",
        "            if name_tag:\n",
        "                name = name_tag.get_text(strip=True)\n",
        "            else:\n",
        "                name = 'No disponible'\n",
        "\n",
        "            # Extraer el precio actual\n",
        "            current_price_tag = product.find('span', class_='vtex-store-components-3-x-sellingPriceValue')\n",
        "            if current_price_tag:\n",
        "                current_price = clean_price(current_price_tag.get_text(strip=True))\n",
        "            else:\n",
        "                current_price = 'No disponible'\n",
        "\n",
        "            # Extraer el precio anterior\n",
        "            previous_price_tag = product.find('span', class_='vtex-store-components-3-x-listPriceValue')\n",
        "            if previous_price_tag:\n",
        "                previous_price = clean_price(previous_price_tag.get_text(strip=True))\n",
        "            else:\n",
        "                previous_price = 'No disponible'\n",
        "\n",
        "            # Extraer el enlace del producto\n",
        "            link_tag = product.find('a', href=True)\n",
        "            if link_tag:\n",
        "                product_link = base_url + link_tag['href']\n",
        "            else:\n",
        "                product_link = 'No disponible'\n",
        "\n",
        "            # Agregar los datos del producto a la lista\n",
        "            products.append({\n",
        "                'Nombre del Producto': name,\n",
        "                'Precio Actual': current_price,\n",
        "                'Precio Anterior': previous_price,\n",
        "                'Enlace del Producto': product_link\n",
        "            })\n",
        "\n",
        "        page += 1\n",
        "\n",
        "    # Guardar los productos en un archivo CSV\n",
        "    if products:\n",
        "        keys = products[0].keys()\n",
        "        with open(f'{search_term}_productos.csv', 'w', newline='', encoding='utf-8') as output_file:\n",
        "            dict_writer = csv.DictWriter(output_file, keys, delimiter=';')\n",
        "            dict_writer.writeheader()\n",
        "            dict_writer.writerows(products)\n",
        "        print(f'Se extrajeron {len(products)} productos.')\n",
        "    else:\n",
        "        print('No se encontraron productos.')\n",
        "\n",
        "if __name__ == '__main__':\n",
        "    termino_busqueda = 'vestidos'  # Puedes cambiar el término de búsqueda\n",
        "    scrape_products(termino_busqueda)\n"
      ]
    }
  ],
  "metadata": {
    "colab": {
      "provenance": []
    },
    "kernelspec": {
      "display_name": "Python 3",
      "name": "python3"
    },
    "language_info": {
      "name": "python"
    }
  },
  "nbformat": 4,
  "nbformat_minor": 0
}
